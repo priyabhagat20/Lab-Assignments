{
 "cells": [
  {
   "cell_type": "code",
   "execution_count": 1,
   "id": "6a1d2431-11cf-42bc-b0d9-56b3097bf49f",
   "metadata": {},
   "outputs": [
    {
     "name": "stdout",
     "output_type": "stream",
     "text": [
      "Chars = 8 Digits = 3 Symbol = 4\n"
     ]
    }
   ],
   "source": [
    "from collections import Counter\n",
    "\n",
    "def count_chars_digits_symbols(s):\n",
    "    counts = Counter()\n",
    "    for char in s:\n",
    "        if char.isalpha():\n",
    "            counts['chars'] += 1\n",
    "        elif char.isdigit():\n",
    "            counts['digits'] += 1\n",
    "        else:\n",
    "            counts['symbols'] += 1\n",
    "    return counts\n",
    "\n",
    "s1 = \"P@#yn26at^&i5ve\"\n",
    "result1 = count_chars_digits_symbols(s1)\n",
    "print(f\"Chars = {result1['chars']} Digits = {result1['digits']} Symbol = {result1['symbols']}\")"
   ]
  },
  {
   "cell_type": "code",
   "execution_count": 2,
   "id": "2622ce36-3b7f-4494-b3af-118db40fb7f4",
   "metadata": {},
   "outputs": [
    {
     "name": "stdout",
     "output_type": "stream",
     "text": [
      "String ad  Fuco\n"
     ]
    }
   ],
   "source": [
    "def remove_duplicates(s):\n",
    "    seen = set()\n",
    "    result = []\n",
    "    for char in s:\n",
    "        if char not in seen or char == ' ':\n",
    "            result.append(char)\n",
    "            seen.add(char)\n",
    "    return ''.join(result)\n",
    "\n",
    "s2 = \"String and String Function\"\n",
    "result2 = remove_duplicates(s2)\n",
    "print(result2)"
   ]
  },
  {
   "cell_type": "code",
   "execution_count": 3,
   "id": "e8596899-7414-450d-848e-873d40e3b69b",
   "metadata": {},
   "outputs": [
    {
     "name": "stdout",
     "output_type": "stream",
     "text": [
      "UpperCase : 5 LowerCase : 18 NumberCase : 5 SpecialCase : 11\n"
     ]
    }
   ],
   "source": [
    "def count_upper_lower_special_numbers(s):\n",
    "    counts = Counter()\n",
    "    for char in s:\n",
    "        if char.isupper():\n",
    "            counts['uppercase'] += 1\n",
    "        elif char.islower():\n",
    "            counts['lowercase'] += 1\n",
    "        elif char.isdigit():\n",
    "            counts['numbers'] += 1\n",
    "        else:\n",
    "            counts['special'] += 1\n",
    "    return counts\n",
    "\n",
    "s3 = \"Hell0 W0rld ! 123 * # welcome to pYtHoN\"\n",
    "result3 = count_upper_lower_special_numbers(s3)\n",
    "print(f\"UpperCase : {result3['uppercase']} LowerCase : {result3['lowercase']} NumberCase : {result3['numbers']} SpecialCase : {result3['special']}\")"
   ]
  },
  {
   "cell_type": "code",
   "execution_count": 4,
   "id": "2c7c95a5-30cb-4bd7-9c52-7c9a266d28a3",
   "metadata": {},
   "outputs": [
    {
     "name": "stdout",
     "output_type": "stream",
     "text": [
      "Total vowels are: 8\n"
     ]
    }
   ],
   "source": [
    "def count_vowels(s):\n",
    "    vowels = 'aeiouAEIOU'\n",
    "    return sum(1 for char in s if char in vowels)\n",
    "\n",
    "s4 = \"Welcome to Python Assignment\"\n",
    "result4 = count_vowels(s4)\n",
    "print(f\"Total vowels are: {result4}\")"
   ]
  },
  {
   "cell_type": "code",
   "execution_count": null,
   "id": "f547bc62-3bd6-4130-a024-d8f98dad8ce5",
   "metadata": {},
   "outputs": [],
   "source": []
  }
 ],
 "metadata": {
  "kernelspec": {
   "display_name": "Python 3 (ipykernel)",
   "language": "python",
   "name": "python3"
  },
  "language_info": {
   "codemirror_mode": {
    "name": "ipython",
    "version": 3
   },
   "file_extension": ".py",
   "mimetype": "text/x-python",
   "name": "python",
   "nbconvert_exporter": "python",
   "pygments_lexer": "ipython3",
   "version": "3.12.0"
  }
 },
 "nbformat": 4,
 "nbformat_minor": 5
}
